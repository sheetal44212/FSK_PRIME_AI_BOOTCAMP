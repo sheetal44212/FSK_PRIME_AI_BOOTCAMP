{
  "nbformat": 4,
  "nbformat_minor": 0,
  "metadata": {
    "colab": {
      "provenance": []
    },
    "kernelspec": {
      "name": "python3",
      "display_name": "Python 3"
    },
    "language_info": {
      "name": "python"
    }
  },
  "cells": [
    {
      "cell_type": "markdown",
      "source": [
        "# Task 3: Introduction to Machine Learning"
      ],
      "metadata": {
        "id": "L982FdumDCVn"
      }
    },
    {
      "cell_type": "markdown",
      "source": [
        "## Section 1: Setup & Dataset"
      ],
      "metadata": {
        "id": "gk9AwRFXDO6n"
      }
    },
    {
      "cell_type": "markdown",
      "source": [
        "### **Task 1**: Load the Dataset\n",
        "\n",
        "*Instruction*: Load the preprocessed Titanic dataset (from the previous module or load again if needed). Separate it into features (`X`) and target (`y`, where target = `Survived`)."
      ],
      "metadata": {
        "id": "tG2LLFb4DSrf"
      }
    },
    {
      "cell_type": "code",
      "source": [
        "import pandas as pd\n",
        "\n",
        "# Try to load the dataset\n",
        "try:\n",
        "    # Attempt to read the file from 'data' subfolder\n",
        "    df = pd.read_csv('data/titanic.csv')\n",
        "except FileNotFoundError:\n",
        "    print(\"File not found in 'data' subfolder. Check the file path or place the file in the correct location.\")\n",
        "    # If the file isn't found in the 'data' folder, read from the current directory\n",
        "    try:\n",
        "        df = pd.read_csv('titanic.csv')\n",
        "    except FileNotFoundError:\n",
        "        print(\"File not found in the current directory. Please ensure the file exists.\")\n",
        "        raise\n",
        "\n",
        "# Separate the features (X) and the target (y)\n",
        "X = df.drop('Survived', axis=1)  # Features\n",
        "y = df['Survived']                # Target variable\n",
        "\n",
        "# Optionally, display the first few rows of the features and target\n",
        "print(\"Features (X):\")\n",
        "print(X.head())\n",
        "print(\"\\nTarget (y):\")\n",
        "print(y.head())"
      ],
      "metadata": {
        "id": "G6YtbgenDSWH",
        "colab": {
          "base_uri": "https://localhost:8080/"
        },
        "outputId": "a917e0fe-a000-4629-89eb-36ea3cd56b1e"
      },
      "execution_count": 1,
      "outputs": [
        {
          "output_type": "stream",
          "name": "stdout",
          "text": [
            "File not found in 'data' subfolder. Check the file path or place the file in the correct location.\n",
            "Features (X):\n",
            "   Pclass                                               Name     Sex   Age  \\\n",
            "0       3                             Mr. Owen Harris Braund    male  22.0   \n",
            "1       1  Mrs. John Bradley (Florence Briggs Thayer) Cum...  female  38.0   \n",
            "2       3                              Miss. Laina Heikkinen  female  26.0   \n",
            "3       1        Mrs. Jacques Heath (Lily May Peel) Futrelle  female  35.0   \n",
            "4       3                            Mr. William Henry Allen    male  35.0   \n",
            "\n",
            "   Siblings/Spouses Aboard  Parents/Children Aboard     Fare  \n",
            "0                        1                        0   7.2500  \n",
            "1                        1                        0  71.2833  \n",
            "2                        0                        0   7.9250  \n",
            "3                        1                        0  53.1000  \n",
            "4                        0                        0   8.0500  \n",
            "\n",
            "Target (y):\n",
            "0    0\n",
            "1    1\n",
            "2    1\n",
            "3    1\n",
            "4    0\n",
            "Name: Survived, dtype: int64\n"
          ]
        }
      ]
    },
    {
      "cell_type": "markdown",
      "source": [
        "## Section 2: Splitting the Data"
      ],
      "metadata": {
        "id": "03CKwCBtDzRL"
      }
    },
    {
      "cell_type": "markdown",
      "source": [
        "### **Task 2**: Train/Test Split\n",
        "\n",
        "*Instruction*:\n",
        "\n",
        "Split the dataset into training and testing sets (80/20 split).\n"
      ],
      "metadata": {
        "id": "oh1W_9m5DuzF"
      }
    },
    {
      "cell_type": "code",
      "source": [
        "import pandas as pd\n",
        "from sklearn.model_selection import train_test_split\n",
        "\n",
        "# Load the dataset (assumed to be preprocessed as in previous steps)\n",
        "try:\n",
        "    df = pd.read_csv('data/titanic.csv')\n",
        "except FileNotFoundError:\n",
        "    print(\"File not found in 'data' subfolder. Check the file path or place the file in the correct location.\")\n",
        "    try:\n",
        "        df = pd.read_csv('titanic.csv')\n",
        "    except FileNotFoundError:\n",
        "        print(\"File not found in the current directory. Please ensure the file exists.\")\n",
        "        raise\n",
        "\n",
        "# Separate the features (X) and the target (y)\n",
        "X = df.drop('Survived', axis=1)  # Features\n",
        "y = df['Survived']                # Target variable\n",
        "\n",
        "# Split the dataset into training and testing sets (80/20 split)\n",
        "X_train, X_test, y_train, y_test = train_test_split(X, y, test_size=0.2, random_state=42)\n",
        "\n",
        "# Optionally, print the shapes of the resulting datasets to verify the split\n",
        "print(\"Training set size:\", X_train.shape)\n",
        "print(\"Testing set size:\", X_test.shape)"
      ],
      "metadata": {
        "id": "SQTsWR6GDn6e",
        "colab": {
          "base_uri": "https://localhost:8080/"
        },
        "outputId": "f7f8c16e-ef35-4d41-c369-3ee061c17c3b"
      },
      "execution_count": 2,
      "outputs": [
        {
          "output_type": "stream",
          "name": "stdout",
          "text": [
            "File not found in 'data' subfolder. Check the file path or place the file in the correct location.\n",
            "Training set size: (709, 7)\n",
            "Testing set size: (178, 7)\n"
          ]
        }
      ]
    },
    {
      "cell_type": "markdown",
      "source": [
        "## Section 3: Train Your First Model"
      ],
      "metadata": {
        "id": "mVV1BgZvEE3a"
      }
    },
    {
      "cell_type": "markdown",
      "source": [
        "### **Task 3**: Logistic Regression\n",
        "\n",
        "*Instruction*: Train a Logistic Regression model on the Titanic dataset. Display accuracy on both train and test sets.\n",
        "\n"
      ],
      "metadata": {
        "id": "opUK7Z7LEIr4"
      }
    },
    {
      "cell_type": "code",
      "source": [
        "import pandas as pd\n",
        "from sklearn.model_selection import train_test_split\n",
        "from sklearn.linear_model import LogisticRegression\n",
        "from sklearn.metrics import accuracy_score\n",
        "\n",
        "# Assuming df is your DataFrame\n",
        "# ... (Your code to load the DataFrame)\n",
        "\n",
        "# Identify columns with string values (object dtype)\n",
        "categorical_cols = X_train.select_dtypes(include=['object']).columns\n",
        "\n",
        "# One-hot encode categorical features\n",
        "X_train = pd.get_dummies(X_train, columns=categorical_cols)\n",
        "X_test = pd.get_dummies(X_test, columns=categorical_cols)\n",
        "\n",
        "# Align training and testing data after one-hot encoding\n",
        "X_train, X_test = X_train.align(X_test, join='left', axis=1, fill_value=0)\n",
        "\n",
        "\n",
        "# Create and train the model\n",
        "model = LogisticRegression()\n",
        "model.fit(X_train, y_train)\n",
        "\n",
        "# Make predictions and calculate accuracy\n",
        "y_train_pred = model.predict(X_train)\n",
        "y_test_pred = model.predict(X_test)\n",
        "\n",
        "train_accuracy = accuracy_score(y_train, y_train_pred)\n",
        "test_accuracy = accuracy_score(y_test, y_test_pred)\n",
        "\n",
        "print(f\"Training Accuracy: {train_accuracy}\")\n",
        "print(f\"Test Accuracy: {test_accuracy}\")"
      ],
      "metadata": {
        "id": "UW3FMdjQEEl3",
        "colab": {
          "base_uri": "https://localhost:8080/"
        },
        "outputId": "f7bd1519-3e18-40cf-cb6b-0d7841d3893a"
      },
      "execution_count": 3,
      "outputs": [
        {
          "output_type": "stream",
          "name": "stdout",
          "text": [
            "Training Accuracy: 0.843441466854725\n",
            "Test Accuracy: 0.7528089887640449\n"
          ]
        },
        {
          "output_type": "stream",
          "name": "stderr",
          "text": [
            "/usr/local/lib/python3.11/dist-packages/sklearn/linear_model/_logistic.py:465: ConvergenceWarning: lbfgs failed to converge (status=1):\n",
            "STOP: TOTAL NO. of ITERATIONS REACHED LIMIT.\n",
            "\n",
            "Increase the number of iterations (max_iter) or scale the data as shown in:\n",
            "    https://scikit-learn.org/stable/modules/preprocessing.html\n",
            "Please also refer to the documentation for alternative solver options:\n",
            "    https://scikit-learn.org/stable/modules/linear_model.html#logistic-regression\n",
            "  n_iter_i = _check_optimize_result(\n"
          ]
        }
      ]
    },
    {
      "cell_type": "markdown",
      "source": [
        "## Section 4: Model Evaluation"
      ],
      "metadata": {
        "id": "GNO0DPi3EpgF"
      }
    },
    {
      "cell_type": "markdown",
      "source": [
        "### **Task 4**: Confusion Matrix & Classification Report\n",
        "\n",
        "*Instruction*: Evaluate the model using confusion matrix and classification report."
      ],
      "metadata": {
        "id": "W74DNGaJEtdj"
      }
    },
    {
      "cell_type": "code",
      "source": [
        "from sklearn.metrics import confusion_matrix, classification_report\n",
        "\n",
        "# Generate predictions on the test set\n",
        "y_pred = model.predict(X_test)\n",
        "\n",
        "# Calculate the confusion matrix\n",
        "cm = confusion_matrix(y_test, y_pred)\n",
        "\n",
        "# Print the confusion matrix\n",
        "print(\"Confusion Matrix:\")\n",
        "print(cm)\n",
        "\n",
        "# Generate the classification report\n",
        "cr = classification_report(y_test, y_pred)\n",
        "\n",
        "# Print the classification report\n",
        "print(\"\\nClassification Report:\")\n",
        "print(cr)"
      ],
      "metadata": {
        "id": "aM8iWEAXEOmE",
        "colab": {
          "base_uri": "https://localhost:8080/"
        },
        "outputId": "014c0ffa-5c89-45dc-e137-99d62b04cb29"
      },
      "execution_count": 4,
      "outputs": [
        {
          "output_type": "stream",
          "name": "stdout",
          "text": [
            "Confusion Matrix:\n",
            "[[95 16]\n",
            " [28 39]]\n",
            "\n",
            "Classification Report:\n",
            "              precision    recall  f1-score   support\n",
            "\n",
            "           0       0.77      0.86      0.81       111\n",
            "           1       0.71      0.58      0.64        67\n",
            "\n",
            "    accuracy                           0.75       178\n",
            "   macro avg       0.74      0.72      0.73       178\n",
            "weighted avg       0.75      0.75      0.75       178\n",
            "\n"
          ]
        }
      ]
    },
    {
      "cell_type": "markdown",
      "source": [
        "## Section 5: Try Another Model"
      ],
      "metadata": {
        "id": "yFxPFagsE9mS"
      }
    },
    {
      "cell_type": "markdown",
      "source": [
        "### **Task 5**:  Random Forest Classifier\n",
        "\n",
        "*Instruction*: Train a `RandomForestClassifier` and compare its performance with Logistic Regression.\n"
      ],
      "metadata": {
        "id": "IZwIOzHXFD1a"
      }
    },
    {
      "cell_type": "code",
      "source": [
        "from sklearn.ensemble import RandomForestClassifier\n",
        "from sklearn.metrics import accuracy_score\n",
        "\n",
        "# Create a Random Forest Classifier model\n",
        "rf_model = RandomForestClassifier(random_state=42)  # Setting random_state for reproducibility\n",
        "\n",
        "# Train the model on the training data\n",
        "rf_model.fit(X_train, y_train)\n",
        "\n",
        "# Make predictions on the training and test sets\n",
        "y_train_pred_rf = rf_model.predict(X_train)\n",
        "y_test_pred_rf = rf_model.predict(X_test)\n",
        "\n",
        "# Calculate accuracy scores\n",
        "train_accuracy_rf = accuracy_score(y_train, y_train_pred_rf)\n",
        "test_accuracy_rf = accuracy_score(y_test, y_test_pred_rf)\n",
        "\n",
        "# Display the accuracy scores and compare with Logistic Regression\n",
        "print(\"Random Forest Classifier:\")\n",
        "print(f\"Training Accuracy: {train_accuracy_rf}\") # Added closing curly brace\n",
        "print(f\"Test Accuracy: {test_accuracy_rf}\") # Added closing curly brace and the variable to print\n"
      ],
      "metadata": {
        "id": "VpUFTR1JFDWk",
        "colab": {
          "base_uri": "https://localhost:8080/"
        },
        "outputId": "42f3d5bd-b1e4-4884-e372-43fb0a3dec0a"
      },
      "execution_count": 5,
      "outputs": [
        {
          "output_type": "stream",
          "name": "stdout",
          "text": [
            "Random Forest Classifier:\n",
            "Training Accuracy: 1.0\n",
            "Test Accuracy: 0.8202247191011236\n"
          ]
        }
      ]
    },
    {
      "cell_type": "markdown",
      "source": [
        "## Section 6: Model Tuning"
      ],
      "metadata": {
        "id": "w-OY1jI5IaIB"
      }
    },
    {
      "cell_type": "markdown",
      "source": [
        "### **Task 6**: Hyperparameter Tuning (GridSearch)\n",
        "\n",
        "*Instruction*:Use `GridSearchCV` to tune `n_estimators` and `max_depth` of the Random Forest model."
      ],
      "metadata": {
        "id": "xeBCcr3RIi-8"
      }
    },
    {
      "cell_type": "code",
      "source": [
        "from sklearn.model_selection import GridSearchCV\n",
        "from sklearn.ensemble import RandomForestClassifier\n",
        "\n",
        "# Define the parameter grid\n",
        "param_grid = {\n",
        "    'n_estimators': [50, 100, 150, 200],  # Number of trees in the forest\n",
        "    'max_depth': [None, 10, 20, 30],  # Maximum depth of the trees\n",
        "}\n",
        "\n",
        "# Create a Random Forest Classifier\n",
        "rf_model = RandomForestClassifier(random_state=42)\n",
        "\n",
        "# Create GridSearchCV object\n",
        "grid_search = GridSearchCV(estimator=rf_model, param_grid=param_grid,\n",
        "                          scoring='accuracy', cv=5, n_jobs=-1, verbose=2)\n",
        "\n",
        "# Fit the grid search to the data\n",
        "grid_search.fit(X_train, y_train)\n",
        "\n",
        "# Get the best parameters and best score\n",
        "best_params = grid_search.best_params_\n",
        "best_score = grid_search.best_score_\n",
        "\n",
        "# Print the best parameters and score\n",
        "print(f\"Best Parameters: {best_params}\")\n",
        "print(f\"Best Accuracy Score: {best_score}\")\n",
        "\n",
        "# Evaluate the model with the best parameters on the test set\n",
        "best_rf_model = grid_search.best_estimator_\n",
        "test_accuracy = best_rf_model.score(X_test, y_test)\n",
        "print(f\"Test Accuracy with Best Parameters: {test_accuracy}\")\n"
      ],
      "metadata": {
        "id": "gSza6VScIakN",
        "colab": {
          "base_uri": "https://localhost:8080/"
        },
        "outputId": "4abdda62-e46a-485b-e512-4683f6a3c69d"
      },
      "execution_count": 6,
      "outputs": [
        {
          "output_type": "stream",
          "name": "stdout",
          "text": [
            "Fitting 5 folds for each of 16 candidates, totalling 80 fits\n",
            "Best Parameters: {'max_depth': 20, 'n_estimators': 50}\n",
            "Best Accuracy Score: 0.8307761462391369\n",
            "Test Accuracy with Best Parameters: 0.7752808988764045\n"
          ]
        }
      ]
    }
  ]
}