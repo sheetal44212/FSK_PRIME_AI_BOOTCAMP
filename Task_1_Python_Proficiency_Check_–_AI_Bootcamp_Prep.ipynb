{
  "nbformat": 4,
  "nbformat_minor": 0,
  "metadata": {
    "colab": {
      "provenance": []
    },
    "kernelspec": {
      "name": "python3",
      "display_name": "Python 3"
    },
    "language_info": {
      "name": "python"
    }
  },
  "cells": [
    {
      "cell_type": "markdown",
      "source": [
        "## Section 1: Basics & Control Flow"
      ],
      "metadata": {
        "id": "gk9AwRFXDO6n"
      }
    },
    {
      "cell_type": "markdown",
      "source": [
        "# Task 1: Python Proficiency Check – AI Bootcamp Prep"
      ],
      "metadata": {
        "id": "L982FdumDCVn"
      }
    },
    {
      "cell_type": "code",
      "source": [
        "def fizzbuzz_ai_bootcamp():\n",
        "  for i in range(1,51):\n",
        "    if i % 3 == 0 and i % 5 == 0:\n",
        "      print(\"AI BOOTCAMP\")\n",
        "    elif i % 3 == 0:\n",
        "      print(\"AI\")\n",
        "    elif i % 5 == 0:\n",
        "      print(\"BOOTCAMP\")\n",
        "    else:\n",
        "      print(i)\n",
        "\n",
        "fizzbuzz_ai_bootcamp()"
      ],
      "metadata": {
        "id": "G6YtbgenDSWH",
        "colab": {
          "base_uri": "https://localhost:8080/"
        },
        "outputId": "2185de55-4a82-4352-ec71-1d1c80a95228"
      },
      "execution_count": null,
      "outputs": [
        {
          "output_type": "stream",
          "name": "stdout",
          "text": [
            "1\n",
            "2\n",
            "AI\n",
            "4\n",
            "BOOTCAMP\n",
            "AI\n",
            "7\n",
            "8\n",
            "AI\n",
            "BOOTCAMP\n",
            "11\n",
            "AI\n",
            "13\n",
            "14\n",
            "AI BOOTCAMP\n",
            "16\n",
            "17\n",
            "AI\n",
            "19\n",
            "BOOTCAMP\n",
            "AI\n",
            "22\n",
            "23\n",
            "AI\n",
            "BOOTCAMP\n",
            "26\n",
            "AI\n",
            "28\n",
            "29\n",
            "AI BOOTCAMP\n",
            "31\n",
            "32\n",
            "AI\n",
            "34\n",
            "BOOTCAMP\n",
            "AI\n",
            "37\n",
            "38\n",
            "AI\n",
            "BOOTCAMP\n",
            "41\n",
            "AI\n",
            "43\n",
            "44\n",
            "AI BOOTCAMP\n",
            "46\n",
            "47\n",
            "AI\n",
            "49\n",
            "BOOTCAMP\n"
          ]
        }
      ]
    },
    {
      "cell_type": "markdown",
      "source": [
        "### **Task 1**: FizzBuzz with a Twist\n",
        "\n",
        "*Instruction*: Write a function that prints numbers from 1 to 50. For multiples of 3, print \"AI\", for multiples of 5 print \"Bootcamp\", and for multiples of both 3 and 5 print \"AI Bootcamp\"."
      ],
      "metadata": {
        "id": "tG2LLFb4DSrf"
      }
    },
    {
      "cell_type": "markdown",
      "source": [
        "### **Task 2**: List Comprehensions and Functions\n",
        "\n",
        "*Instruction*: Given a list of numbers, square only the even numbers using a list comprehension and define a function that returns the result."
      ],
      "metadata": {
        "id": "8YMADBQmDhHU"
      }
    },
    {
      "cell_type": "code",
      "execution_count": null,
      "metadata": {
        "colab": {
          "base_uri": "https://localhost:8080/"
        },
        "id": "sPfpD1yF4LTO",
        "outputId": "7e521657-2cf4-4166-9e2b-1dddf77c5060"
      },
      "outputs": [
        {
          "output_type": "stream",
          "name": "stdout",
          "text": [
            "[4, 16, 36]\n"
          ]
        }
      ],
      "source": [
        "def square_evens(numbers):\n",
        "   return [x**2 for x in numbers if x % 2 == 0]\n",
        "\n",
        "print(square_evens([1, 2, 3, 4, 5, 6]))"
      ]
    },
    {
      "cell_type": "markdown",
      "source": [
        "## Section 2: Data Structures & File I/O"
      ],
      "metadata": {
        "id": "03CKwCBtDzRL"
      }
    },
    {
      "cell_type": "markdown",
      "source": [
        "### **Task 3**: Word Frequency from a File\n",
        "\n",
        "*Instruction*: Read the provided text file (sample.txt) and return the 5 most common words (ignoring punctuation and case)."
      ],
      "metadata": {
        "id": "oh1W_9m5DuzF"
      }
    },
    {
      "cell_type": "code",
      "source": [
        "from collections import Counter\n",
        "import string\n",
        "def top_5_words(filepath):\n",
        "    with open(filepath,'r') as file:\n",
        "      text=file.read()\n",
        "    text= text.lower()\n",
        "    text=text.translate(str.maketrans('', '',string.punctuation))\n",
        "    words = text.split()\n",
        "    word_counts = Counter(words)\n",
        "    most_common = word_counts.most_common(5)\n",
        "    for word, count in most_common:\n",
        "      print(f\" {word}: {count}\")\n",
        "\n",
        "\n",
        "\n",
        "top_5_words('/content/sample_data/README.md')\n"
      ],
      "metadata": {
        "id": "SQTsWR6GDn6e",
        "colab": {
          "base_uri": "https://localhost:8080/"
        },
        "outputId": "d71dbe67-8b80-4b2d-99b7-ddd7fb9ba017"
      },
      "execution_count": null,
      "outputs": [
        {
          "output_type": "stream",
          "name": "stdout",
          "text": [
            " is: 4\n",
            " a: 3\n",
            " the: 3\n",
            " sample: 2\n",
            " at: 2\n"
          ]
        }
      ]
    },
    {
      "cell_type": "markdown",
      "source": [
        "## Section 3: NumPy & pandas"
      ],
      "metadata": {
        "id": "mVV1BgZvEE3a"
      }
    },
    {
      "cell_type": "markdown",
      "source": [
        "### **Task 4**: NumPy Matrix Magic\n",
        "\n",
        "*Instruction*: Create a 5x5 matrix with random integers from 1 to 10. Replace all elements greater than 5 with 0."
      ],
      "metadata": {
        "id": "opUK7Z7LEIr4"
      }
    },
    {
      "cell_type": "code",
      "source": [
        "import numpy as np\n",
        "\n",
        "def matrix_transform():\n",
        "  matrix1=np.random.randint(1,11,size=(5,5))\n",
        "  print(\"Original matrix = \")\n",
        "  print(matrix1)\n",
        "  matrix1[matrix1>5]=0\n",
        "  print()\n",
        "  print(\"New matrix = \")\n",
        "  print(matrix1)\n",
        "matrix_transform()\n"
      ],
      "metadata": {
        "id": "UW3FMdjQEEl3",
        "colab": {
          "base_uri": "https://localhost:8080/"
        },
        "outputId": "79c7e4b0-d89f-4e08-f9e6-7ac464a73b12"
      },
      "execution_count": null,
      "outputs": [
        {
          "output_type": "stream",
          "name": "stdout",
          "text": [
            "Original matrix = \n",
            "[[ 6  4  5  4  9]\n",
            " [ 8 10  3  1 10]\n",
            " [ 9 10 10  6  3]\n",
            " [ 1  3  4  5  9]\n",
            " [ 1  2  9  9  5]]\n",
            "\n",
            "New matrix = \n",
            "[[0 4 5 4 0]\n",
            " [0 0 3 1 0]\n",
            " [0 0 0 0 3]\n",
            " [1 3 4 5 0]\n",
            " [1 2 0 0 5]]\n"
          ]
        }
      ]
    },
    {
      "cell_type": "markdown",
      "source": [
        "### **Task 5**: pandas DataFrame Manipulation\n",
        "\n",
        "*Instruction*: Given the following dictionary, convert it into a DataFrame, calculate the average score per student, and add it as a new column."
      ],
      "metadata": {
        "id": "YuFv3sE6ET9d"
      }
    },
    {
      "cell_type": "code",
      "source": [
        "import pandas as pd\n",
        "\n",
        "data = {\n",
        "    'Name': ['Alice', 'Bob', 'Charlie'],\n",
        "    'Math': [85, 78, 92],\n",
        "    'Science': [90, 88, 84],\n",
        "    'English': [87, 85, 80]\n",
        "}\n",
        "\n",
        "df=pd.DataFrame(data)\n",
        "df[\"Average\"]=df[[\"Math\",\"Science\",\"English\"]].mean(axis=1)\n",
        "print(df)"
      ],
      "metadata": {
        "id": "horbXH8iETuH",
        "colab": {
          "base_uri": "https://localhost:8080/"
        },
        "outputId": "b1c98da7-73e5-4216-db2a-6fc71ecc65fe"
      },
      "execution_count": null,
      "outputs": [
        {
          "output_type": "stream",
          "name": "stdout",
          "text": [
            "      Name  Math  Science  English    Average\n",
            "0    Alice    85       90       87  87.333333\n",
            "1      Bob    78       88       85  83.666667\n",
            "2  Charlie    92       84       80  85.333333\n"
          ]
        }
      ]
    },
    {
      "cell_type": "markdown",
      "source": [
        "## Section 4: Visualization & Logic"
      ],
      "metadata": {
        "id": "GNO0DPi3EpgF"
      }
    },
    {
      "cell_type": "markdown",
      "source": [
        "### **Task 6**: Simple Data Visualization\n",
        "\n",
        "*Instruction*: Use matplotlib to create a bar chart showing the average score per subject from the DataFrame in the previous task."
      ],
      "metadata": {
        "id": "W74DNGaJEtdj"
      }
    },
    {
      "cell_type": "code",
      "source": [
        "   import matplotlib.pyplot as plt\n",
        "   import pandas as pd\n",
        "\n",
        "   data ={\n",
        "       'Name': ['Alice', 'Bob', 'Charlie'],\n",
        "       'Math': [85, 78, 92],\n",
        "       'Science': [90, 88, 84],\n",
        "       'English': [87, 85,80]\n",
        "   }\n",
        "\n",
        "   df=pd.DataFrame(data)\n",
        "   stu_average = df[[\"Math\", \"Science\",\"English\"]].mean(axis=0)\n",
        "   print(stu_average)\n",
        "   plt.bar(stu_average.index,stu_average.values,color=\"skyblue\")\n",
        "   plt.show()\n"
      ],
      "metadata": {
        "id": "aM8iWEAXEOmE",
        "colab": {
          "base_uri": "https://localhost:8080/",
          "height": 499
        },
        "outputId": "82513211-6a6b-468d-f22b-28b2faf0827f"
      },
      "execution_count": null,
      "outputs": [
        {
          "output_type": "stream",
          "name": "stdout",
          "text": [
            "Math       85.000000\n",
            "Science    87.333333\n",
            "English    84.000000\n",
            "dtype: float64\n"
          ]
        },
        {
          "output_type": "display_data",
          "data": {
            "text/plain": [
              "<Figure size 640x480 with 1 Axes>"
            ],
            "image/png": "[encoded data removed]"
          },
          "metadata": {}
        }
      ]
    },
    {
      "cell_type": "markdown",
      "source": [
        "## Section 5: Mini-Project Challenge"
      ],
      "metadata": {
        "id": "yFxPFagsE9mS"
      }
    },
    {
      "cell_type": "markdown",
      "source": [
        "### **Task 7**: Build a Mini Calculator with Exception Handling\n",
        "\n",
        "*Instruction*: Write a function that takes two numbers and an operator as input (+, -, *, /). Return the result, and handle divide-by-zero and invalid operator cases with appropriate error messages."
      ],
      "metadata": {
        "id": "IZwIOzHXFD1a"
      }
    },
    {
      "cell_type": "code",
      "source": [
        "def calculator(a, b, operator):\n",
        "  if operator == '+':\n",
        "    return a + b\n",
        "  elif operator == '-':\n",
        "    return a - b\n",
        "  elif operator == '*':\n",
        "    return a * b\n",
        "  elif operator =='/':\n",
        "    if b == 0:\n",
        "      return \"Error: Division by zero is not allowed.\"\n",
        "    return a / b\n",
        "  else:\n",
        "    return \"Error:Invalid oprator. Use one of +, -, *, /\"\n",
        "\n",
        "\n",
        "calculator(10, 0, '/')"
      ],
      "metadata": {
        "id": "VpUFTR1JFDWk",
        "colab": {
          "base_uri": "https://localhost:8080/",
          "height": 35
        },
        "outputId": "bc4e9d57-b1a6-4a63-c783-40caba6647a0"
      },
      "execution_count": null,
      "outputs": [
        {
          "output_type": "execute_result",
          "data": {
            "text/plain": [
              "'Error: Division by zero is not allowed.'"
            ],
            "application/vnd.google.colaboratory.intrinsic+json": {
              "type": "string"
            }
          },
          "metadata": {},
          "execution_count": 49
        }
      ]
    }
  ]
}