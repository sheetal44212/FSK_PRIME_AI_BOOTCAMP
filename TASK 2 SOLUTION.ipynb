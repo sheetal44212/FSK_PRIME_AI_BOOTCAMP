{
  "cells": [
    {
      "cell_type": "markdown",
      "metadata": {
        "id": "L982FdumDCVn"
      },
      "source": [
        "# Task 2: Data Preprocessing for Machine Learning – AI Bootcamp"
      ]
    },
    {
      "cell_type": "markdown",
      "metadata": {
        "id": "6EEWt7WNF5kP"
      },
      "source": [
        "Download Titanic Dataset here: https://web.stanford.edu/class/archive/cs/cs109/cs109.1166/stuff/titanic.csv\n",
        "\n",
        "#### About this file\n",
        "\n",
        "The sinking of the Titanic is one of the most infamous shipwrecks in history.\n",
        "\n",
        "On April 15, 1912, during her maiden voyage, the widely considered “unsinkable” RMS Titanic sank after colliding with an iceberg. Unfortunately, there weren’t enough lifeboats for everyone on board, resulting in the death of 1502 out of 2224 passengers and crew.\n",
        "\n",
        "While there was some element of luck involved in surviving, it seems some groups of people were more likely to survive than others.\n",
        "\n",
        "In this challenge, we ask you to build a predictive model that answers the question: “what sorts of people were more likely to survive?” using passenger data (ie name, age, gender, socio-economic class, etc)."
      ]
    },
    {
      "cell_type": "markdown",
      "metadata": {
        "id": "gk9AwRFXDO6n"
      },
      "source": [
        "## Section 1: Data Loading & Exploration"
      ]
    },
    {
      "cell_type": "markdown",
      "metadata": {
        "id": "tG2LLFb4DSrf"
      },
      "source": [
        "### **Task 1**: Load and Inspect a Dataset\n",
        "\n",
        "*Instruction*: Load the `titanic.csv` dataset and display the first 5 rows. Show basic info and describe statistics of the dataset."
      ]
    },
    {
      "cell_type": "code",
      "execution_count": null,
      "metadata": {
        "id": "G6YtbgenDSWH"
      },
      "outputs": [],
      "source": [
        "import pandas as pd\n",
        "\n",
        "df = pd.read_csv('/content/sample_data/titanic.csv')\n",
        "print(df.head())\n",
        "print(df.info())\n",
        "print(df.describe())"
      ]
    },
    {
      "cell_type": "markdown",
      "metadata": {
        "id": "03CKwCBtDzRL"
      },
      "source": [
        "## Section 2: Handling Missing Values"
      ]
    },
    {
      "cell_type": "markdown",
      "metadata": {
        "id": "oh1W_9m5DuzF"
      },
      "source": [
        "### **Task 2**: Identify and Handle Missing Data\n",
        "\n",
        "*Instruction*:\n",
        "\n",
        "\n",
        "\n",
        "*   Display the number of missing values per column.\n",
        "*   Fill missing `Age` values with the median.\n",
        "*   Drop the second row in the dataset.\n",
        "\n"
      ]
    },
    {
      "cell_type": "code",
      "execution_count": null,
      "metadata": {
        "id": "SQTsWR6GDn6e"
      },
      "outputs": [],
      "source": [
        "data=df.isnull().sum()\n",
        "print(data)\n",
        "median_age=df['Age'].median()\n",
        "df['Age'].fillna(median_age, inplace=True)\n",
        "df = df.drop(df.index[1])\n",
        "print(df)\n",
        "\n"
      ]
    },
    {
      "cell_type": "markdown",
      "metadata": {
        "id": "mVV1BgZvEE3a"
      },
      "source": [
        "## Section 3: Encoding Categorical Features"
      ]
    },
    {
      "cell_type": "markdown",
      "metadata": {
        "id": "opUK7Z7LEIr4"
      },
      "source": [
        "### **Task 3**: Convert Categorical to Numeric\n",
        "\n",
        "*Instruction*: Convert `Sex` and `Pclass` columns to numeric using:\n",
        "\n",
        "\n",
        "*   Label Encoding for `Sex`\n",
        "*   One-Hot Encoding for `Pclass`\n",
        "\n"
      ]
    },
    {
      "cell_type": "code",
      "execution_count": null,
      "metadata": {
        "id": "UW3FMdjQEEl3",
        "colab": {
          "base_uri": "https://localhost:8080/"
        },
        "outputId": "a11e684c-80d3-404e-c42f-f92f16bbae80"
      },
      "outputs": [
        {
          "output_type": "stream",
          "name": "stdout",
          "text": [
            "     Survived                                         Name  Sex   Age  \\\n",
            "0           0                       Mr. Owen Harris Braund    1  22.0   \n",
            "3           1  Mrs. Jacques Heath (Lily May Peel) Futrelle    0  35.0   \n",
            "4           0                      Mr. William Henry Allen    1  35.0   \n",
            "5           0                              Mr. James Moran    1  27.0   \n",
            "6           0                       Mr. Timothy J McCarthy    1  54.0   \n",
            "..        ...                                          ...  ...   ...   \n",
            "882         0                         Rev. Juozas Montvila    1  27.0   \n",
            "883         1                  Miss. Margaret Edith Graham    0  19.0   \n",
            "884         0               Miss. Catherine Helen Johnston    0   7.0   \n",
            "885         1                         Mr. Karl Howell Behr    1  26.0   \n",
            "886         0                           Mr. Patrick Dooley    1  32.0   \n",
            "\n",
            "     Siblings/Spouses Aboard  Parents/Children Aboard     Fare  Pclass_1  \\\n",
            "0                          1                        0   7.2500     False   \n",
            "3                          1                        0  53.1000      True   \n",
            "4                          0                        0   8.0500     False   \n",
            "5                          0                        0   8.4583     False   \n",
            "6                          0                        0  51.8625      True   \n",
            "..                       ...                      ...      ...       ...   \n",
            "882                        0                        0  13.0000     False   \n",
            "883                        0                        0  30.0000      True   \n",
            "884                        1                        2  23.4500     False   \n",
            "885                        0                        0  30.0000      True   \n",
            "886                        0                        0   7.7500     False   \n",
            "\n",
            "     Pclass_2  Pclass_3  \n",
            "0       False      True  \n",
            "3       False     False  \n",
            "4       False      True  \n",
            "5       False      True  \n",
            "6       False     False  \n",
            "..        ...       ...  \n",
            "882      True     False  \n",
            "883     False     False  \n",
            "884     False      True  \n",
            "885     False     False  \n",
            "886     False      True  \n",
            "\n",
            "[885 rows x 10 columns]\n"
          ]
        }
      ],
      "source": [
        "from sklearn.preprocessing import LabelEncoder\n",
        "\n",
        "le=LabelEncoder()\n",
        "df['Sex']=le.fit_transform(df['Sex'])\n",
        "df = pd.get_dummies(df, columns=['Pclass'])\n",
        "print(df)\n"
      ]
    },
    {
      "cell_type": "markdown",
      "metadata": {
        "id": "GNO0DPi3EpgF"
      },
      "source": [
        "## Section 4: Feature Scaling"
      ]
    },
    {
      "cell_type": "markdown",
      "metadata": {
        "id": "W74DNGaJEtdj"
      },
      "source": [
        "### **Task 4**: Scale Numerical Features\n",
        "\n",
        "*Instruction*: Use StandardScaler to scale the Age and Fare columns.*italicized text*"
      ]
    },
    {
      "cell_type": "code",
      "execution_count": null,
      "metadata": {
        "id": "aM8iWEAXEOmE",
        "colab": {
          "base_uri": "https://localhost:8080/"
        },
        "outputId": "d165a7ec-dbaa-4c4b-9873-d78e5b72e4cf"
      },
      "outputs": [
        {
          "output_type": "stream",
          "name": "stdout",
          "text": [
            "     Survived                                         Name  Sex       Age  \\\n",
            "0           0                       Mr. Owen Harris Braund    1 -0.528491   \n",
            "3           1  Mrs. Jacques Heath (Lily May Peel) Futrelle    0  0.391765   \n",
            "4           0                      Mr. William Henry Allen    1  0.391765   \n",
            "5           0                              Mr. James Moran    1 -0.174546   \n",
            "6           0                       Mr. Timothy J McCarthy    1  1.736756   \n",
            "..        ...                                          ...  ...       ...   \n",
            "882         0                         Rev. Juozas Montvila    1 -0.174546   \n",
            "883         1                  Miss. Margaret Edith Graham    0 -0.740858   \n",
            "884         0               Miss. Catherine Helen Johnston    0 -1.590326   \n",
            "885         1                         Mr. Karl Howell Behr    1 -0.245335   \n",
            "886         0                           Mr. Patrick Dooley    1  0.179398   \n",
            "\n",
            "     Siblings/Spouses Aboard  Parents/Children Aboard      Fare  Pclass_1  \\\n",
            "0                          1                        0 -0.502929     False   \n",
            "3                          1                        0  0.418009      True   \n",
            "4                          0                        0 -0.486861     False   \n",
            "5                          0                        0 -0.478660     False   \n",
            "6                          0                        0  0.393153      True   \n",
            "..                       ...                      ...       ...       ...   \n",
            "882                        0                        0 -0.387435     False   \n",
            "883                        0                        0 -0.045975      True   \n",
            "884                        1                        2 -0.177538     False   \n",
            "885                        0                        0 -0.045975      True   \n",
            "886                        0                        0 -0.492886     False   \n",
            "\n",
            "     Pclass_2  Pclass_3  \n",
            "0       False      True  \n",
            "3       False     False  \n",
            "4       False      True  \n",
            "5       False      True  \n",
            "6       False     False  \n",
            "..        ...       ...  \n",
            "882      True     False  \n",
            "883     False     False  \n",
            "884     False      True  \n",
            "885     False     False  \n",
            "886     False      True  \n",
            "\n",
            "[885 rows x 10 columns]\n"
          ]
        }
      ],
      "source": [
        "from sklearn.preprocessing import StandardScaler\n",
        "\n",
        "scaler = StandardScaler()\n",
        "df[['Age', 'Fare']] = scaler.fit_transform(df[['Age', 'Fare']])\n",
        "print(df)"
      ]
    },
    {
      "cell_type": "markdown",
      "metadata": {
        "id": "yFxPFagsE9mS"
      },
      "source": [
        "## Section 5: Feature Engineering"
      ]
    },
    {
      "cell_type": "markdown",
      "metadata": {
        "id": "IZwIOzHXFD1a"
      },
      "source": [
        "### **Task 5**: Build Preprocessing Pipeline\n",
        "\n",
        "*Instruction*: Using `ColumnTransformer` and `Pipeline` from `sklearn`, build a pipeline that:\n",
        "\n",
        "\n",
        "\n",
        "*   Imputes missing values\n",
        "*   Scales numeric data\n",
        "*   Encodes categorical data\n",
        "\n"
      ]
    },
    {
      "cell_type": "code",
      "execution_count": null,
      "metadata": {
        "id": "VpUFTR1JFDWk",
        "colab": {
          "base_uri": "https://localhost:8080/"
        },
        "outputId": "2b8e65f8-4fdb-4aa2-9ceb-364865d58663"
      },
      "outputs": [
        {
          "output_type": "stream",
          "name": "stdout",
          "text": [
            "[[-0.52936601 -0.50358635  0.         ...  0.          0.\n",
            "   1.        ]\n",
            " [ 0.60426454  0.78341245  1.         ...  1.          0.\n",
            "   0.        ]\n",
            " [-0.24595837 -0.49001959  1.         ...  0.          0.\n",
            "   1.        ]\n",
            " ...\n",
            " [-1.59214465 -0.17798419  1.         ...  0.          0.\n",
            "   1.        ]\n",
            " [-0.24595837 -0.04633641  0.         ...  1.          0.\n",
            "   0.        ]\n",
            " [ 0.17915309 -0.4935369   0.         ...  0.          0.\n",
            "   1.        ]]\n"
          ]
        }
      ],
      "source": [
        "import pandas as pd\n",
        "from sklearn.compose import ColumnTransformer\n",
        "from sklearn.pipeline import Pipeline\n",
        "from sklearn.impute import SimpleImputer\n",
        "from sklearn.preprocessing import OneHotEncoder, StandardScaler\n",
        "\n",
        "numeric_features = ['Age', 'Fare']\n",
        "categorical_features = ['Sex', 'Pclass']\n",
        "numeric_transformer = Pipeline(steps=[\n",
        "    ('imputer', SimpleImputer(strategy='median')),\n",
        "    ('scaler', StandardScaler())\n",
        "])\n",
        "categorical_transformer = Pipeline(steps=[\n",
        "    ('imputer', SimpleImputer(strategy='most_frequent')),\n",
        "    ('onehot', OneHotEncoder(handle_unknown='ignore'))\n",
        "])\n",
        "preprocessor = ColumnTransformer(\n",
        "    transformers=[\n",
        "        ('num', numeric_transformer, numeric_features),\n",
        "        ('cat', categorical_transformer, categorical_features)\n",
        "    ])\n",
        "df = pd.read_csv('/content/sample_data/titanic.csv')\n",
        "df = preprocessor.fit_transform(df)\n",
        "print(df)"
      ]
    },
    {
      "cell_type": "markdown",
      "metadata": {
        "id": "w-OY1jI5IaIB"
      },
      "source": [
        "## Section 6: Feature Engineering"
      ]
    },
    {
      "cell_type": "markdown",
      "metadata": {
        "id": "xeBCcr3RIi-8"
      },
      "source": [
        "### **Task 6**: Create a New Feature\n",
        "\n",
        "*Instruction*: Create a new feature `FamilySize` = `Siblings/Spouses Aboard` + `Parents/Children Aboard` + 1."
      ]
    },
    {
      "cell_type": "code",
      "execution_count": null,
      "metadata": {
        "id": "gSza6VScIakN",
        "colab": {
          "base_uri": "https://localhost:8080/"
        },
        "outputId": "f2098937-798e-499c-98f1-c4e9817a6728"
      },
      "outputs": [
        {
          "output_type": "stream",
          "name": "stdout",
          "text": [
            "     Survived  Pclass                                               Name  \\\n",
            "0           0       3                             Mr. Owen Harris Braund   \n",
            "1           1       1  Mrs. John Bradley (Florence Briggs Thayer) Cum...   \n",
            "2           1       3                              Miss. Laina Heikkinen   \n",
            "3           1       1        Mrs. Jacques Heath (Lily May Peel) Futrelle   \n",
            "4           0       3                            Mr. William Henry Allen   \n",
            "..        ...     ...                                                ...   \n",
            "882         0       2                               Rev. Juozas Montvila   \n",
            "883         1       1                        Miss. Margaret Edith Graham   \n",
            "884         0       3                     Miss. Catherine Helen Johnston   \n",
            "885         1       1                               Mr. Karl Howell Behr   \n",
            "886         0       3                                 Mr. Patrick Dooley   \n",
            "\n",
            "        Sex   Age  Siblings/Spouses Aboard  Parents/Children Aboard     Fare  \\\n",
            "0      male  22.0                        1                        0   7.2500   \n",
            "1    female  38.0                        1                        0  71.2833   \n",
            "2    female  26.0                        0                        0   7.9250   \n",
            "3    female  35.0                        1                        0  53.1000   \n",
            "4      male  35.0                        0                        0   8.0500   \n",
            "..      ...   ...                      ...                      ...      ...   \n",
            "882    male  27.0                        0                        0  13.0000   \n",
            "883  female  19.0                        0                        0  30.0000   \n",
            "884  female   7.0                        1                        2  23.4500   \n",
            "885    male  26.0                        0                        0  30.0000   \n",
            "886    male  32.0                        0                        0   7.7500   \n",
            "\n",
            "     FamilySize  \n",
            "0             2  \n",
            "1             2  \n",
            "2             1  \n",
            "3             2  \n",
            "4             1  \n",
            "..          ...  \n",
            "882           1  \n",
            "883           1  \n",
            "884           4  \n",
            "885           1  \n",
            "886           1  \n",
            "\n",
            "[887 rows x 9 columns]\n"
          ]
        }
      ],
      "source": [
        "from sklearn.compose import ColumnTransformer\n",
        "from sklearn.pipeline import Pipeline\n",
        "from sklearn.impute import SimpleImputer\n",
        "from sklearn.preprocessing import OneHotEncoder, StandardScaler\n",
        "\n",
        "data = pd.read_csv('/content/sample_data/titanic.csv')\n",
        "data['FamilySize'] = data['Siblings/Spouses Aboard'] + data['Parents/Children Aboard'] + 1\n",
        "print(data)\n"
      ]
    }
  ],
  "metadata": {
    "colab": {
      "provenance": []
    },
    "kernelspec": {
      "display_name": "Python 3",
      "name": "python3"
    },
    "language_info": {
      "name": "python"
    }
  },
  "nbformat": 4,
  "nbformat_minor": 0
}